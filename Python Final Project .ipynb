{
 "cells": [
  {
   "cell_type": "markdown",
   "metadata": {},
   "source": [
    "# Python Final Project "
   ]
  },
  {
   "cell_type": "markdown",
   "metadata": {},
   "source": [
    "Hypothesis Question: Does Score have a correlation with the inpendent variables of the data set? "
   ]
  },
  {
   "cell_type": "code",
   "execution_count": 51,
   "metadata": {},
   "outputs": [
    {
     "data": {
      "text/html": [
       "<div>\n",
       "<style scoped>\n",
       "    .dataframe tbody tr th:only-of-type {\n",
       "        vertical-align: middle;\n",
       "    }\n",
       "\n",
       "    .dataframe tbody tr th {\n",
       "        vertical-align: top;\n",
       "    }\n",
       "\n",
       "    .dataframe thead th {\n",
       "        text-align: right;\n",
       "    }\n",
       "</style>\n",
       "<table border=\"1\" class=\"dataframe\">\n",
       "  <thead>\n",
       "    <tr style=\"text-align: right;\">\n",
       "      <th></th>\n",
       "      <th>anime_id</th>\n",
       "      <th>title</th>\n",
       "      <th>title_english</th>\n",
       "      <th>title_japanese</th>\n",
       "      <th>title_synonyms</th>\n",
       "      <th>image_url</th>\n",
       "      <th>type</th>\n",
       "      <th>source</th>\n",
       "      <th>episodes</th>\n",
       "      <th>status</th>\n",
       "      <th>airing</th>\n",
       "      <th>aired_string</th>\n",
       "      <th>aired</th>\n",
       "      <th>duration</th>\n",
       "      <th>rating</th>\n",
       "      <th>score</th>\n",
       "      <th>scored_by</th>\n",
       "      <th>rank</th>\n",
       "      <th>popularity</th>\n",
       "      <th>members</th>\n",
       "      <th>favorites</th>\n",
       "      <th>background</th>\n",
       "      <th>premiered</th>\n",
       "      <th>broadcast</th>\n",
       "      <th>related</th>\n",
       "      <th>producer</th>\n",
       "      <th>licensor</th>\n",
       "      <th>studio</th>\n",
       "      <th>genre</th>\n",
       "      <th>opening_theme</th>\n",
       "      <th>ending_theme</th>\n",
       "      <th>duration_min</th>\n",
       "      <th>aired_from_year</th>\n",
       "    </tr>\n",
       "  </thead>\n",
       "  <tbody>\n",
       "    <tr>\n",
       "      <th>0</th>\n",
       "      <td>11013</td>\n",
       "      <td>Inu x Boku SS</td>\n",
       "      <td>Inu X Boku Secret Service</td>\n",
       "      <td>妖狐×僕SS</td>\n",
       "      <td>Youko x Boku SS</td>\n",
       "      <td>https://myanimelist.cdn-dena.com/images/anime/...</td>\n",
       "      <td>TV</td>\n",
       "      <td>Manga</td>\n",
       "      <td>12</td>\n",
       "      <td>Finished Airing</td>\n",
       "      <td>False</td>\n",
       "      <td>Jan 13, 2012 to Mar 30, 2012</td>\n",
       "      <td>{'from': '2012-01-13', 'to': '2012-03-30'}</td>\n",
       "      <td>24 min. per ep.</td>\n",
       "      <td>PG-13 - Teens 13 or older</td>\n",
       "      <td>7.63</td>\n",
       "      <td>139250</td>\n",
       "      <td>1274.0</td>\n",
       "      <td>231</td>\n",
       "      <td>283882</td>\n",
       "      <td>2809</td>\n",
       "      <td>Inu x Boku SS was licensed by Sentai Filmworks...</td>\n",
       "      <td>Winter 2012</td>\n",
       "      <td>Fridays at Unknown</td>\n",
       "      <td>{'Adaptation': [{'mal_id': 17207, 'type': 'man...</td>\n",
       "      <td>Aniplex, Square Enix, Mainichi Broadcasting Sy...</td>\n",
       "      <td>Sentai Filmworks</td>\n",
       "      <td>David Production</td>\n",
       "      <td>Comedy, Supernatural, Romance, Shounen</td>\n",
       "      <td>['\"Nirvana\" by MUCC']</td>\n",
       "      <td>['#1: \"Nirvana\" by MUCC (eps 1, 11-12)', '#2: ...</td>\n",
       "      <td>24.0</td>\n",
       "      <td>2012.0</td>\n",
       "    </tr>\n",
       "    <tr>\n",
       "      <th>1</th>\n",
       "      <td>2104</td>\n",
       "      <td>Seto no Hanayome</td>\n",
       "      <td>My Bride is a Mermaid</td>\n",
       "      <td>瀬戸の花嫁</td>\n",
       "      <td>The Inland Sea Bride</td>\n",
       "      <td>https://myanimelist.cdn-dena.com/images/anime/...</td>\n",
       "      <td>TV</td>\n",
       "      <td>Manga</td>\n",
       "      <td>26</td>\n",
       "      <td>Finished Airing</td>\n",
       "      <td>False</td>\n",
       "      <td>Apr 2, 2007 to Oct 1, 2007</td>\n",
       "      <td>{'from': '2007-04-02', 'to': '2007-10-01'}</td>\n",
       "      <td>24 min. per ep.</td>\n",
       "      <td>PG-13 - Teens 13 or older</td>\n",
       "      <td>7.89</td>\n",
       "      <td>91206</td>\n",
       "      <td>727.0</td>\n",
       "      <td>366</td>\n",
       "      <td>204003</td>\n",
       "      <td>2579</td>\n",
       "      <td>NaN</td>\n",
       "      <td>Spring 2007</td>\n",
       "      <td>Unknown</td>\n",
       "      <td>{'Adaptation': [{'mal_id': 759, 'type': 'manga...</td>\n",
       "      <td>TV Tokyo, AIC, Square Enix, Sotsu</td>\n",
       "      <td>Funimation</td>\n",
       "      <td>Gonzo</td>\n",
       "      <td>Comedy, Parody, Romance, School, Shounen</td>\n",
       "      <td>['\"Romantic summer\" by SUN&amp;LUNAR']</td>\n",
       "      <td>['#1: \"Ashita e no Hikari (明日への光)\" by Asuka Hi...</td>\n",
       "      <td>24.0</td>\n",
       "      <td>2007.0</td>\n",
       "    </tr>\n",
       "    <tr>\n",
       "      <th>2</th>\n",
       "      <td>5262</td>\n",
       "      <td>Shugo Chara!! Doki</td>\n",
       "      <td>Shugo Chara!! Doki</td>\n",
       "      <td>しゅごキャラ！！どきっ</td>\n",
       "      <td>Shugo Chara Ninenme, Shugo Chara! Second Year</td>\n",
       "      <td>https://myanimelist.cdn-dena.com/images/anime/...</td>\n",
       "      <td>TV</td>\n",
       "      <td>Manga</td>\n",
       "      <td>51</td>\n",
       "      <td>Finished Airing</td>\n",
       "      <td>False</td>\n",
       "      <td>Oct 4, 2008 to Sep 25, 2009</td>\n",
       "      <td>{'from': '2008-10-04', 'to': '2009-09-25'}</td>\n",
       "      <td>24 min. per ep.</td>\n",
       "      <td>PG - Children</td>\n",
       "      <td>7.55</td>\n",
       "      <td>37129</td>\n",
       "      <td>1508.0</td>\n",
       "      <td>1173</td>\n",
       "      <td>70127</td>\n",
       "      <td>802</td>\n",
       "      <td>NaN</td>\n",
       "      <td>Fall 2008</td>\n",
       "      <td>Unknown</td>\n",
       "      <td>{'Adaptation': [{'mal_id': 101, 'type': 'manga...</td>\n",
       "      <td>TV Tokyo, Sotsu</td>\n",
       "      <td>NaN</td>\n",
       "      <td>Satelight</td>\n",
       "      <td>Comedy, Magic, School, Shoujo</td>\n",
       "      <td>['#1: \"Minna no Tamago (みんなのたまご)\" by Shugo Cha...</td>\n",
       "      <td>['#1: \"Rottara Rottara (ロッタラ ロッタラ)\" by Buono! ...</td>\n",
       "      <td>24.0</td>\n",
       "      <td>2008.0</td>\n",
       "    </tr>\n",
       "    <tr>\n",
       "      <th>3</th>\n",
       "      <td>721</td>\n",
       "      <td>Princess Tutu</td>\n",
       "      <td>Princess Tutu</td>\n",
       "      <td>プリンセスチュチュ</td>\n",
       "      <td>NaN</td>\n",
       "      <td>https://myanimelist.cdn-dena.com/images/anime/...</td>\n",
       "      <td>TV</td>\n",
       "      <td>Original</td>\n",
       "      <td>38</td>\n",
       "      <td>Finished Airing</td>\n",
       "      <td>False</td>\n",
       "      <td>Aug 16, 2002 to May 23, 2003</td>\n",
       "      <td>{'from': '2002-08-16', 'to': '2003-05-23'}</td>\n",
       "      <td>16 min. per ep.</td>\n",
       "      <td>PG-13 - Teens 13 or older</td>\n",
       "      <td>8.21</td>\n",
       "      <td>36501</td>\n",
       "      <td>307.0</td>\n",
       "      <td>916</td>\n",
       "      <td>93312</td>\n",
       "      <td>3344</td>\n",
       "      <td>Princess Tutu aired in two parts. The first pa...</td>\n",
       "      <td>Summer 2002</td>\n",
       "      <td>Fridays at Unknown</td>\n",
       "      <td>{'Adaptation': [{'mal_id': 1581, 'type': 'mang...</td>\n",
       "      <td>Memory-Tech, GANSIS, Marvelous AQL</td>\n",
       "      <td>ADV Films</td>\n",
       "      <td>Hal Film Maker</td>\n",
       "      <td>Comedy, Drama, Magic, Romance, Fantasy</td>\n",
       "      <td>['\"Morning Grace\" by Ritsuko Okazaki']</td>\n",
       "      <td>['\"Watashi No Ai Wa Chiisaikeredo\" by Ritsuko ...</td>\n",
       "      <td>16.0</td>\n",
       "      <td>2002.0</td>\n",
       "    </tr>\n",
       "    <tr>\n",
       "      <th>4</th>\n",
       "      <td>12365</td>\n",
       "      <td>Bakuman. 3rd Season</td>\n",
       "      <td>Bakuman.</td>\n",
       "      <td>バクマン。</td>\n",
       "      <td>Bakuman Season 3</td>\n",
       "      <td>https://myanimelist.cdn-dena.com/images/anime/...</td>\n",
       "      <td>TV</td>\n",
       "      <td>Manga</td>\n",
       "      <td>25</td>\n",
       "      <td>Finished Airing</td>\n",
       "      <td>False</td>\n",
       "      <td>Oct 6, 2012 to Mar 30, 2013</td>\n",
       "      <td>{'from': '2012-10-06', 'to': '2013-03-30'}</td>\n",
       "      <td>24 min. per ep.</td>\n",
       "      <td>PG-13 - Teens 13 or older</td>\n",
       "      <td>8.67</td>\n",
       "      <td>107767</td>\n",
       "      <td>50.0</td>\n",
       "      <td>426</td>\n",
       "      <td>182765</td>\n",
       "      <td>2082</td>\n",
       "      <td>NaN</td>\n",
       "      <td>Fall 2012</td>\n",
       "      <td>Unknown</td>\n",
       "      <td>{'Adaptation': [{'mal_id': 9711, 'type': 'mang...</td>\n",
       "      <td>NHK, Shueisha</td>\n",
       "      <td>NaN</td>\n",
       "      <td>J.C.Staff</td>\n",
       "      <td>Comedy, Drama, Romance, Shounen</td>\n",
       "      <td>['#1: \"Moshimo no Hanashi (もしもの話)\" by nano.RIP...</td>\n",
       "      <td>['#1: \"Pride on Everyday\" by Sphere (eps 1-13)...</td>\n",
       "      <td>24.0</td>\n",
       "      <td>2012.0</td>\n",
       "    </tr>\n",
       "  </tbody>\n",
       "</table>\n",
       "</div>"
      ],
      "text/plain": [
       "   anime_id                title              title_english title_japanese  \\\n",
       "0     11013        Inu x Boku SS  Inu X Boku Secret Service         妖狐×僕SS   \n",
       "1      2104     Seto no Hanayome      My Bride is a Mermaid          瀬戸の花嫁   \n",
       "2      5262   Shugo Chara!! Doki         Shugo Chara!! Doki    しゅごキャラ！！どきっ   \n",
       "3       721        Princess Tutu              Princess Tutu      プリンセスチュチュ   \n",
       "4     12365  Bakuman. 3rd Season                   Bakuman.          バクマン。   \n",
       "\n",
       "                                  title_synonyms  \\\n",
       "0                                Youko x Boku SS   \n",
       "1                           The Inland Sea Bride   \n",
       "2  Shugo Chara Ninenme, Shugo Chara! Second Year   \n",
       "3                                            NaN   \n",
       "4                               Bakuman Season 3   \n",
       "\n",
       "                                           image_url type    source  episodes  \\\n",
       "0  https://myanimelist.cdn-dena.com/images/anime/...   TV     Manga        12   \n",
       "1  https://myanimelist.cdn-dena.com/images/anime/...   TV     Manga        26   \n",
       "2  https://myanimelist.cdn-dena.com/images/anime/...   TV     Manga        51   \n",
       "3  https://myanimelist.cdn-dena.com/images/anime/...   TV  Original        38   \n",
       "4  https://myanimelist.cdn-dena.com/images/anime/...   TV     Manga        25   \n",
       "\n",
       "            status  airing                  aired_string  \\\n",
       "0  Finished Airing   False  Jan 13, 2012 to Mar 30, 2012   \n",
       "1  Finished Airing   False    Apr 2, 2007 to Oct 1, 2007   \n",
       "2  Finished Airing   False   Oct 4, 2008 to Sep 25, 2009   \n",
       "3  Finished Airing   False  Aug 16, 2002 to May 23, 2003   \n",
       "4  Finished Airing   False   Oct 6, 2012 to Mar 30, 2013   \n",
       "\n",
       "                                        aired         duration  \\\n",
       "0  {'from': '2012-01-13', 'to': '2012-03-30'}  24 min. per ep.   \n",
       "1  {'from': '2007-04-02', 'to': '2007-10-01'}  24 min. per ep.   \n",
       "2  {'from': '2008-10-04', 'to': '2009-09-25'}  24 min. per ep.   \n",
       "3  {'from': '2002-08-16', 'to': '2003-05-23'}  16 min. per ep.   \n",
       "4  {'from': '2012-10-06', 'to': '2013-03-30'}  24 min. per ep.   \n",
       "\n",
       "                      rating  score  scored_by    rank  popularity  members  \\\n",
       "0  PG-13 - Teens 13 or older   7.63     139250  1274.0         231   283882   \n",
       "1  PG-13 - Teens 13 or older   7.89      91206   727.0         366   204003   \n",
       "2              PG - Children   7.55      37129  1508.0        1173    70127   \n",
       "3  PG-13 - Teens 13 or older   8.21      36501   307.0         916    93312   \n",
       "4  PG-13 - Teens 13 or older   8.67     107767    50.0         426   182765   \n",
       "\n",
       "   favorites                                         background    premiered  \\\n",
       "0       2809  Inu x Boku SS was licensed by Sentai Filmworks...  Winter 2012   \n",
       "1       2579                                                NaN  Spring 2007   \n",
       "2        802                                                NaN    Fall 2008   \n",
       "3       3344  Princess Tutu aired in two parts. The first pa...  Summer 2002   \n",
       "4       2082                                                NaN    Fall 2012   \n",
       "\n",
       "            broadcast                                            related  \\\n",
       "0  Fridays at Unknown  {'Adaptation': [{'mal_id': 17207, 'type': 'man...   \n",
       "1             Unknown  {'Adaptation': [{'mal_id': 759, 'type': 'manga...   \n",
       "2             Unknown  {'Adaptation': [{'mal_id': 101, 'type': 'manga...   \n",
       "3  Fridays at Unknown  {'Adaptation': [{'mal_id': 1581, 'type': 'mang...   \n",
       "4             Unknown  {'Adaptation': [{'mal_id': 9711, 'type': 'mang...   \n",
       "\n",
       "                                            producer          licensor  \\\n",
       "0  Aniplex, Square Enix, Mainichi Broadcasting Sy...  Sentai Filmworks   \n",
       "1                  TV Tokyo, AIC, Square Enix, Sotsu        Funimation   \n",
       "2                                    TV Tokyo, Sotsu               NaN   \n",
       "3                 Memory-Tech, GANSIS, Marvelous AQL         ADV Films   \n",
       "4                                      NHK, Shueisha               NaN   \n",
       "\n",
       "             studio                                     genre  \\\n",
       "0  David Production    Comedy, Supernatural, Romance, Shounen   \n",
       "1             Gonzo  Comedy, Parody, Romance, School, Shounen   \n",
       "2         Satelight             Comedy, Magic, School, Shoujo   \n",
       "3    Hal Film Maker    Comedy, Drama, Magic, Romance, Fantasy   \n",
       "4         J.C.Staff           Comedy, Drama, Romance, Shounen   \n",
       "\n",
       "                                       opening_theme  \\\n",
       "0                              ['\"Nirvana\" by MUCC']   \n",
       "1                 ['\"Romantic summer\" by SUN&LUNAR']   \n",
       "2  ['#1: \"Minna no Tamago (みんなのたまご)\" by Shugo Cha...   \n",
       "3             ['\"Morning Grace\" by Ritsuko Okazaki']   \n",
       "4  ['#1: \"Moshimo no Hanashi (もしもの話)\" by nano.RIP...   \n",
       "\n",
       "                                        ending_theme  duration_min  \\\n",
       "0  ['#1: \"Nirvana\" by MUCC (eps 1, 11-12)', '#2: ...          24.0   \n",
       "1  ['#1: \"Ashita e no Hikari (明日への光)\" by Asuka Hi...          24.0   \n",
       "2  ['#1: \"Rottara Rottara (ロッタラ ロッタラ)\" by Buono! ...          24.0   \n",
       "3  ['\"Watashi No Ai Wa Chiisaikeredo\" by Ritsuko ...          16.0   \n",
       "4  ['#1: \"Pride on Everyday\" by Sphere (eps 1-13)...          24.0   \n",
       "\n",
       "   aired_from_year  \n",
       "0           2012.0  \n",
       "1           2007.0  \n",
       "2           2008.0  \n",
       "3           2002.0  \n",
       "4           2012.0  "
      ]
     },
     "execution_count": 51,
     "metadata": {},
     "output_type": "execute_result"
    }
   ],
   "source": [
    "import pandas as pd\n",
    "import matplotlib.pyplot as plt \n",
    "import numpy as np\n",
    "import seaborn as sns\n",
    "\n",
    "pd.set_option('display.max_rows', 500)\n",
    "pd.set_option('display.max_columns', 500)\n",
    "\n",
    "aml = pd.read_csv('C:/Users/Noel~/Desktop/Untitled Folder/anime_cleaned_file.csv')\n",
    "\n",
    "aml.head()"
   ]
  },
  {
   "cell_type": "markdown",
   "metadata": {},
   "source": [
    "Parts within the dataset look good from the check, took out some columns that didn't serve a purpose and was not good looking. "
   ]
  },
  {
   "cell_type": "code",
   "execution_count": 9,
   "metadata": {},
   "outputs": [
    {
     "data": {
      "text/html": [
       "<div>\n",
       "<style scoped>\n",
       "    .dataframe tbody tr th:only-of-type {\n",
       "        vertical-align: middle;\n",
       "    }\n",
       "\n",
       "    .dataframe tbody tr th {\n",
       "        vertical-align: top;\n",
       "    }\n",
       "\n",
       "    .dataframe thead th {\n",
       "        text-align: right;\n",
       "    }\n",
       "</style>\n",
       "<table border=\"1\" class=\"dataframe\">\n",
       "  <thead>\n",
       "    <tr style=\"text-align: right;\">\n",
       "      <th></th>\n",
       "      <th>anime_id</th>\n",
       "      <th>title</th>\n",
       "      <th>title_english</th>\n",
       "      <th>title_japanese</th>\n",
       "      <th>title_synonyms</th>\n",
       "      <th>image_url</th>\n",
       "      <th>type</th>\n",
       "      <th>source</th>\n",
       "      <th>episodes</th>\n",
       "      <th>status</th>\n",
       "      <th>airing</th>\n",
       "      <th>aired_string</th>\n",
       "      <th>duration</th>\n",
       "      <th>rating</th>\n",
       "      <th>score</th>\n",
       "      <th>scored_by</th>\n",
       "      <th>rank</th>\n",
       "      <th>popularity</th>\n",
       "      <th>members</th>\n",
       "      <th>favorites</th>\n",
       "      <th>background</th>\n",
       "      <th>premiered</th>\n",
       "      <th>broadcast</th>\n",
       "      <th>producer</th>\n",
       "      <th>licensor</th>\n",
       "      <th>studio</th>\n",
       "      <th>genre</th>\n",
       "      <th>opening_theme</th>\n",
       "      <th>ending_theme</th>\n",
       "      <th>duration_min</th>\n",
       "      <th>aired_from_year</th>\n",
       "    </tr>\n",
       "  </thead>\n",
       "  <tbody>\n",
       "    <tr>\n",
       "      <th>0</th>\n",
       "      <td>11013</td>\n",
       "      <td>Inu x Boku SS</td>\n",
       "      <td>Inu X Boku Secret Service</td>\n",
       "      <td>妖狐×僕SS</td>\n",
       "      <td>Youko x Boku SS</td>\n",
       "      <td>https://myanimelist.cdn-dena.com/images/anime/...</td>\n",
       "      <td>TV</td>\n",
       "      <td>Manga</td>\n",
       "      <td>12</td>\n",
       "      <td>Finished Airing</td>\n",
       "      <td>False</td>\n",
       "      <td>Jan 13, 2012 to Mar 30, 2012</td>\n",
       "      <td>24 min. per ep.</td>\n",
       "      <td>PG-13 - Teens 13 or older</td>\n",
       "      <td>7.63</td>\n",
       "      <td>139250</td>\n",
       "      <td>1274.0</td>\n",
       "      <td>231</td>\n",
       "      <td>283882</td>\n",
       "      <td>2809</td>\n",
       "      <td>Inu x Boku SS was licensed by Sentai Filmworks...</td>\n",
       "      <td>Winter 2012</td>\n",
       "      <td>Fridays at Unknown</td>\n",
       "      <td>Aniplex, Square Enix, Mainichi Broadcasting Sy...</td>\n",
       "      <td>Sentai Filmworks</td>\n",
       "      <td>David Production</td>\n",
       "      <td>Comedy, Supernatural, Romance, Shounen</td>\n",
       "      <td>['\"Nirvana\" by MUCC']</td>\n",
       "      <td>['#1: \"Nirvana\" by MUCC (eps 1, 11-12)', '#2: ...</td>\n",
       "      <td>24.0</td>\n",
       "      <td>2012.0</td>\n",
       "    </tr>\n",
       "    <tr>\n",
       "      <th>1</th>\n",
       "      <td>2104</td>\n",
       "      <td>Seto no Hanayome</td>\n",
       "      <td>My Bride is a Mermaid</td>\n",
       "      <td>瀬戸の花嫁</td>\n",
       "      <td>The Inland Sea Bride</td>\n",
       "      <td>https://myanimelist.cdn-dena.com/images/anime/...</td>\n",
       "      <td>TV</td>\n",
       "      <td>Manga</td>\n",
       "      <td>26</td>\n",
       "      <td>Finished Airing</td>\n",
       "      <td>False</td>\n",
       "      <td>Apr 2, 2007 to Oct 1, 2007</td>\n",
       "      <td>24 min. per ep.</td>\n",
       "      <td>PG-13 - Teens 13 or older</td>\n",
       "      <td>7.89</td>\n",
       "      <td>91206</td>\n",
       "      <td>727.0</td>\n",
       "      <td>366</td>\n",
       "      <td>204003</td>\n",
       "      <td>2579</td>\n",
       "      <td>NaN</td>\n",
       "      <td>Spring 2007</td>\n",
       "      <td>Unknown</td>\n",
       "      <td>TV Tokyo, AIC, Square Enix, Sotsu</td>\n",
       "      <td>Funimation</td>\n",
       "      <td>Gonzo</td>\n",
       "      <td>Comedy, Parody, Romance, School, Shounen</td>\n",
       "      <td>['\"Romantic summer\" by SUN&amp;LUNAR']</td>\n",
       "      <td>['#1: \"Ashita e no Hikari (明日への光)\" by Asuka Hi...</td>\n",
       "      <td>24.0</td>\n",
       "      <td>2007.0</td>\n",
       "    </tr>\n",
       "    <tr>\n",
       "      <th>2</th>\n",
       "      <td>5262</td>\n",
       "      <td>Shugo Chara!! Doki</td>\n",
       "      <td>Shugo Chara!! Doki</td>\n",
       "      <td>しゅごキャラ！！どきっ</td>\n",
       "      <td>Shugo Chara Ninenme, Shugo Chara! Second Year</td>\n",
       "      <td>https://myanimelist.cdn-dena.com/images/anime/...</td>\n",
       "      <td>TV</td>\n",
       "      <td>Manga</td>\n",
       "      <td>51</td>\n",
       "      <td>Finished Airing</td>\n",
       "      <td>False</td>\n",
       "      <td>Oct 4, 2008 to Sep 25, 2009</td>\n",
       "      <td>24 min. per ep.</td>\n",
       "      <td>PG - Children</td>\n",
       "      <td>7.55</td>\n",
       "      <td>37129</td>\n",
       "      <td>1508.0</td>\n",
       "      <td>1173</td>\n",
       "      <td>70127</td>\n",
       "      <td>802</td>\n",
       "      <td>NaN</td>\n",
       "      <td>Fall 2008</td>\n",
       "      <td>Unknown</td>\n",
       "      <td>TV Tokyo, Sotsu</td>\n",
       "      <td>NaN</td>\n",
       "      <td>Satelight</td>\n",
       "      <td>Comedy, Magic, School, Shoujo</td>\n",
       "      <td>['#1: \"Minna no Tamago (みんなのたまご)\" by Shugo Cha...</td>\n",
       "      <td>['#1: \"Rottara Rottara (ロッタラ ロッタラ)\" by Buono! ...</td>\n",
       "      <td>24.0</td>\n",
       "      <td>2008.0</td>\n",
       "    </tr>\n",
       "    <tr>\n",
       "      <th>3</th>\n",
       "      <td>721</td>\n",
       "      <td>Princess Tutu</td>\n",
       "      <td>Princess Tutu</td>\n",
       "      <td>プリンセスチュチュ</td>\n",
       "      <td>NaN</td>\n",
       "      <td>https://myanimelist.cdn-dena.com/images/anime/...</td>\n",
       "      <td>TV</td>\n",
       "      <td>Original</td>\n",
       "      <td>38</td>\n",
       "      <td>Finished Airing</td>\n",
       "      <td>False</td>\n",
       "      <td>Aug 16, 2002 to May 23, 2003</td>\n",
       "      <td>16 min. per ep.</td>\n",
       "      <td>PG-13 - Teens 13 or older</td>\n",
       "      <td>8.21</td>\n",
       "      <td>36501</td>\n",
       "      <td>307.0</td>\n",
       "      <td>916</td>\n",
       "      <td>93312</td>\n",
       "      <td>3344</td>\n",
       "      <td>Princess Tutu aired in two parts. The first pa...</td>\n",
       "      <td>Summer 2002</td>\n",
       "      <td>Fridays at Unknown</td>\n",
       "      <td>Memory-Tech, GANSIS, Marvelous AQL</td>\n",
       "      <td>ADV Films</td>\n",
       "      <td>Hal Film Maker</td>\n",
       "      <td>Comedy, Drama, Magic, Romance, Fantasy</td>\n",
       "      <td>['\"Morning Grace\" by Ritsuko Okazaki']</td>\n",
       "      <td>['\"Watashi No Ai Wa Chiisaikeredo\" by Ritsuko ...</td>\n",
       "      <td>16.0</td>\n",
       "      <td>2002.0</td>\n",
       "    </tr>\n",
       "    <tr>\n",
       "      <th>4</th>\n",
       "      <td>12365</td>\n",
       "      <td>Bakuman. 3rd Season</td>\n",
       "      <td>Bakuman.</td>\n",
       "      <td>バクマン。</td>\n",
       "      <td>Bakuman Season 3</td>\n",
       "      <td>https://myanimelist.cdn-dena.com/images/anime/...</td>\n",
       "      <td>TV</td>\n",
       "      <td>Manga</td>\n",
       "      <td>25</td>\n",
       "      <td>Finished Airing</td>\n",
       "      <td>False</td>\n",
       "      <td>Oct 6, 2012 to Mar 30, 2013</td>\n",
       "      <td>24 min. per ep.</td>\n",
       "      <td>PG-13 - Teens 13 or older</td>\n",
       "      <td>8.67</td>\n",
       "      <td>107767</td>\n",
       "      <td>50.0</td>\n",
       "      <td>426</td>\n",
       "      <td>182765</td>\n",
       "      <td>2082</td>\n",
       "      <td>NaN</td>\n",
       "      <td>Fall 2012</td>\n",
       "      <td>Unknown</td>\n",
       "      <td>NHK, Shueisha</td>\n",
       "      <td>NaN</td>\n",
       "      <td>J.C.Staff</td>\n",
       "      <td>Comedy, Drama, Romance, Shounen</td>\n",
       "      <td>['#1: \"Moshimo no Hanashi (もしもの話)\" by nano.RIP...</td>\n",
       "      <td>['#1: \"Pride on Everyday\" by Sphere (eps 1-13)...</td>\n",
       "      <td>24.0</td>\n",
       "      <td>2012.0</td>\n",
       "    </tr>\n",
       "  </tbody>\n",
       "</table>\n",
       "</div>"
      ],
      "text/plain": [
       "   anime_id                title              title_english title_japanese  \\\n",
       "0     11013        Inu x Boku SS  Inu X Boku Secret Service         妖狐×僕SS   \n",
       "1      2104     Seto no Hanayome      My Bride is a Mermaid          瀬戸の花嫁   \n",
       "2      5262   Shugo Chara!! Doki         Shugo Chara!! Doki    しゅごキャラ！！どきっ   \n",
       "3       721        Princess Tutu              Princess Tutu      プリンセスチュチュ   \n",
       "4     12365  Bakuman. 3rd Season                   Bakuman.          バクマン。   \n",
       "\n",
       "                                  title_synonyms  \\\n",
       "0                                Youko x Boku SS   \n",
       "1                           The Inland Sea Bride   \n",
       "2  Shugo Chara Ninenme, Shugo Chara! Second Year   \n",
       "3                                            NaN   \n",
       "4                               Bakuman Season 3   \n",
       "\n",
       "                                           image_url type    source  episodes  \\\n",
       "0  https://myanimelist.cdn-dena.com/images/anime/...   TV     Manga        12   \n",
       "1  https://myanimelist.cdn-dena.com/images/anime/...   TV     Manga        26   \n",
       "2  https://myanimelist.cdn-dena.com/images/anime/...   TV     Manga        51   \n",
       "3  https://myanimelist.cdn-dena.com/images/anime/...   TV  Original        38   \n",
       "4  https://myanimelist.cdn-dena.com/images/anime/...   TV     Manga        25   \n",
       "\n",
       "            status  airing                  aired_string         duration  \\\n",
       "0  Finished Airing   False  Jan 13, 2012 to Mar 30, 2012  24 min. per ep.   \n",
       "1  Finished Airing   False    Apr 2, 2007 to Oct 1, 2007  24 min. per ep.   \n",
       "2  Finished Airing   False   Oct 4, 2008 to Sep 25, 2009  24 min. per ep.   \n",
       "3  Finished Airing   False  Aug 16, 2002 to May 23, 2003  16 min. per ep.   \n",
       "4  Finished Airing   False   Oct 6, 2012 to Mar 30, 2013  24 min. per ep.   \n",
       "\n",
       "                      rating  score  scored_by    rank  popularity  members  \\\n",
       "0  PG-13 - Teens 13 or older   7.63     139250  1274.0         231   283882   \n",
       "1  PG-13 - Teens 13 or older   7.89      91206   727.0         366   204003   \n",
       "2              PG - Children   7.55      37129  1508.0        1173    70127   \n",
       "3  PG-13 - Teens 13 or older   8.21      36501   307.0         916    93312   \n",
       "4  PG-13 - Teens 13 or older   8.67     107767    50.0         426   182765   \n",
       "\n",
       "   favorites                                         background    premiered  \\\n",
       "0       2809  Inu x Boku SS was licensed by Sentai Filmworks...  Winter 2012   \n",
       "1       2579                                                NaN  Spring 2007   \n",
       "2        802                                                NaN    Fall 2008   \n",
       "3       3344  Princess Tutu aired in two parts. The first pa...  Summer 2002   \n",
       "4       2082                                                NaN    Fall 2012   \n",
       "\n",
       "            broadcast                                           producer  \\\n",
       "0  Fridays at Unknown  Aniplex, Square Enix, Mainichi Broadcasting Sy...   \n",
       "1             Unknown                  TV Tokyo, AIC, Square Enix, Sotsu   \n",
       "2             Unknown                                    TV Tokyo, Sotsu   \n",
       "3  Fridays at Unknown                 Memory-Tech, GANSIS, Marvelous AQL   \n",
       "4             Unknown                                      NHK, Shueisha   \n",
       "\n",
       "           licensor            studio  \\\n",
       "0  Sentai Filmworks  David Production   \n",
       "1        Funimation             Gonzo   \n",
       "2               NaN         Satelight   \n",
       "3         ADV Films    Hal Film Maker   \n",
       "4               NaN         J.C.Staff   \n",
       "\n",
       "                                      genre  \\\n",
       "0    Comedy, Supernatural, Romance, Shounen   \n",
       "1  Comedy, Parody, Romance, School, Shounen   \n",
       "2             Comedy, Magic, School, Shoujo   \n",
       "3    Comedy, Drama, Magic, Romance, Fantasy   \n",
       "4           Comedy, Drama, Romance, Shounen   \n",
       "\n",
       "                                       opening_theme  \\\n",
       "0                              ['\"Nirvana\" by MUCC']   \n",
       "1                 ['\"Romantic summer\" by SUN&LUNAR']   \n",
       "2  ['#1: \"Minna no Tamago (みんなのたまご)\" by Shugo Cha...   \n",
       "3             ['\"Morning Grace\" by Ritsuko Okazaki']   \n",
       "4  ['#1: \"Moshimo no Hanashi (もしもの話)\" by nano.RIP...   \n",
       "\n",
       "                                        ending_theme  duration_min  \\\n",
       "0  ['#1: \"Nirvana\" by MUCC (eps 1, 11-12)', '#2: ...          24.0   \n",
       "1  ['#1: \"Ashita e no Hikari (明日への光)\" by Asuka Hi...          24.0   \n",
       "2  ['#1: \"Rottara Rottara (ロッタラ ロッタラ)\" by Buono! ...          24.0   \n",
       "3  ['\"Watashi No Ai Wa Chiisaikeredo\" by Ritsuko ...          16.0   \n",
       "4  ['#1: \"Pride on Everyday\" by Sphere (eps 1-13)...          24.0   \n",
       "\n",
       "   aired_from_year  \n",
       "0           2012.0  \n",
       "1           2007.0  \n",
       "2           2008.0  \n",
       "3           2002.0  \n",
       "4           2012.0  "
      ]
     },
     "execution_count": 9,
     "metadata": {},
     "output_type": "execute_result"
    }
   ],
   "source": [
    "aml.drop(['related'], axis=1, inplace = True)\n",
    "aml.drop(['aired'], axis=1, inplace = True)\n",
    "         \n",
    "aml.head()"
   ]
  },
  {
   "cell_type": "markdown",
   "metadata": {},
   "source": [
    "Some more cleaning to see if there are any missing entries"
   ]
  },
  {
   "cell_type": "code",
   "execution_count": 10,
   "metadata": {},
   "outputs": [
    {
     "data": {
      "text/plain": [
       "Index(['title_english', 'title_japanese', 'title_synonyms', 'image_url',\n",
       "       'rank', 'background', 'premiered', 'broadcast', 'producer', 'licensor',\n",
       "       'genre'],\n",
       "      dtype='object')"
      ]
     },
     "execution_count": 10,
     "metadata": {},
     "output_type": "execute_result"
    }
   ],
   "source": [
    "#checking for missing anything just to be sure \n",
    "\n",
    "aml.columns[aml.isnull().any()]"
   ]
  },
  {
   "cell_type": "markdown",
   "metadata": {},
   "source": [
    "We can see that out of the 33 columns there 11 of them with missing values "
   ]
  },
  {
   "cell_type": "markdown",
   "metadata": {},
   "source": [
    "# Exploratory Analysis"
   ]
  },
  {
   "cell_type": "markdown",
   "metadata": {},
   "source": [
    "I am currently going to look at score and how it is distributed across each of the shows, as such I will most like use two things. Which are going to be a distribution plot from Seaborn and a Heatmap to see what kind of correlation I can see within the data when it is compared to the scores of each of the shows. "
   ]
  },
  {
   "cell_type": "code",
   "execution_count": 28,
   "metadata": {},
   "outputs": [
    {
     "name": "stderr",
     "output_type": "stream",
     "text": [
      "C:\\ProgramData\\Anaconda3\\lib\\site-packages\\matplotlib\\axes\\_axes.py:6462: UserWarning: The 'normed' kwarg is deprecated, and has been replaced by the 'density' kwarg.\n",
      "  warnings.warn(\"The 'normed' kwarg is deprecated, and has been \"\n"
     ]
    },
    {
     "data": {
      "text/plain": [
       "<matplotlib.axes._subplots.AxesSubplot at 0x1aa63960160>"
      ]
     },
     "execution_count": 28,
     "metadata": {},
     "output_type": "execute_result"
    },
    {
     "data": {
      "image/png": "[encoded data removed]",
      "text/plain": [
       "<Figure size 432x288 with 1 Axes>"
      ]
     },
     "metadata": {},
     "output_type": "display_data"
    }
   ],
   "source": [
    "sns.distplot(aml['score'])"
   ]
  },
  {
   "cell_type": "markdown",
   "metadata": {},
   "source": [
    "We can see that when each show there is more less a left skewed distribution but is enough to compare score to other independent variables to see if there is any correlation. "
   ]
  },
  {
   "cell_type": "code",
   "execution_count": 35,
   "metadata": {},
   "outputs": [
    {
     "name": "stdout",
     "output_type": "stream",
     "text": [
      "There are 10 numeric and 23 categorical columns in the data\n"
     ]
    }
   ],
   "source": [
    "#separate variables into new data frames\n",
    "numeric_data = aml.select_dtypes(include=[np.number])\n",
    "cat_data = aml.select_dtypes(exclude=[np.number])\n",
    "print (\"There are {} numeric and {} categorical columns in the data\".format(numeric_data.shape[1],cat_data.shape[1]))\n"
   ]
  },
  {
   "cell_type": "code",
   "execution_count": 33,
   "metadata": {},
   "outputs": [
    {
     "data": {
      "text/plain": [
       "<matplotlib.axes._subplots.AxesSubplot at 0x1aa63b087b8>"
      ]
     },
     "execution_count": 33,
     "metadata": {},
     "output_type": "execute_result"
    },
    {
     "data": {
      "image/png": "[encoded data removed]",
      "text/plain": [
       "<Figure size 432x288 with 2 Axes>"
      ]
     },
     "metadata": {},
     "output_type": "display_data"
    }
   ],
   "source": [
    "#Correlation Plotting \n",
    "corr = numeric_data.corr()\n",
    "sns.heatmap(corr) "
   ]
  },
  {
   "cell_type": "markdown",
   "metadata": {},
   "source": [
    "We can see that within the heat map and the correlation of values that follows that there is some correlation of scores with independent variables but not as was originally foretold in the hypothesis. As such we will contiune into hypothesis testing to see if there is an actual correlation instead of just basing off of what we see."
   ]
  },
  {
   "cell_type": "markdown",
   "metadata": {},
   "source": [
    "# Hypothesis Testing "
   ]
  },
  {
   "cell_type": "markdown",
   "metadata": {},
   "source": [
    "We will be using pearson correlation to show of the 4 variables: Members, Popularity, and Favorites, will they be correlated with score and directly influence it. I will be using these 4 variables because one they are the most likely to haves some sort of correlation with the scoring of the show such as popularity and the amount of people who actual watch the shows. As well as secondly because they have some sort of influence on how the show may or may not be scored. "
   ]
  },
  {
   "cell_type": "code",
   "execution_count": 46,
   "metadata": {},
   "outputs": [
    {
     "name": "stdout",
     "output_type": "stream",
     "text": [
      "Pearson Correlation: 0.4156259247022757\n"
     ]
    }
   ],
   "source": [
    "def pearson_r(x,y):\n",
    "    \"\"\"Compute Pearson correlation coefficient between two arrays.\"\"\"\n",
    "    # Compute correlation matrix: corr_mat\n",
    "    corr_mat = np.corrcoef(x,y) \n",
    "    \n",
    "    return corr_mat[0,1]\n",
    "\n",
    "# Conduct Pearson Correlation\n",
    "test = pearson_r(aml['score'], aml['members'])\n",
    "\n",
    "# Print the result\n",
    "print('Pearson Correlation: {}'.format(test))"
   ]
  },
  {
   "cell_type": "code",
   "execution_count": 47,
   "metadata": {},
   "outputs": [
    {
     "name": "stdout",
     "output_type": "stream",
     "text": [
      "Pearson Correlation: -0.6884918226602827\n"
     ]
    }
   ],
   "source": [
    "def pearson_r(x,y):\n",
    "    \"\"\"Compute Pearson correlation coefficient between two arrays.\"\"\"\n",
    "    # Compute correlation matrix: corr_mat\n",
    "    corr_mat = np.corrcoef(x,y) \n",
    "    \n",
    "    return corr_mat[0,1]\n",
    "\n",
    "# Conduct Pearson Correlation\n",
    "test = pearson_r(aml['score'], aml['popularity'])\n",
    "\n",
    "# Print the result\n",
    "print('Pearson Correlation: {}'.format(test))"
   ]
  },
  {
   "cell_type": "code",
   "execution_count": 48,
   "metadata": {},
   "outputs": [
    {
     "name": "stdout",
     "output_type": "stream",
     "text": [
      "Pearson Correlation: 0.25609399955182327\n"
     ]
    }
   ],
   "source": [
    "def pearson_r(x,y):\n",
    "    \"\"\"Compute Pearson correlation coefficient between two arrays.\"\"\"\n",
    "    # Compute correlation matrix: corr_mat\n",
    "    corr_mat = np.corrcoef(x,y) \n",
    "    \n",
    "    return corr_mat[0,1]\n",
    "\n",
    "# Conduct Pearson Correlation\n",
    "test = pearson_r(aml['score'], aml['favorites'])\n",
    "\n",
    "# Print the result\n",
    "print('Pearson Correlation: {}'.format(test))"
   ]
  },
  {
   "cell_type": "markdown",
   "metadata": {},
   "source": [
    "We can see that within each of the 4 variables that the amount of memebers and the amount of people who favorite the show, gives the most correlation within the each of the variables. As such we can also agree with the heat map that was created that showed that those two variables are more correlated than the others based on the hypothesis. For the machine learning section of the project, I believe a random forest model will be the most useful to show how each of the pearson correlation tests were to the interpretation of the visuals. "
   ]
  },
  {
   "cell_type": "markdown",
   "metadata": {},
   "source": [
    "# Machine Learning"
   ]
  },
  {
   "cell_type": "code",
   "execution_count": 87,
   "metadata": {},
   "outputs": [
    {
     "name": "stdout",
     "output_type": "stream",
     "text": [
      "(5334, 3) (5334,)\n",
      "(1334, 3) (1334,)\n"
     ]
    }
   ],
   "source": [
    "X = aml[['members', 'popularity','favorites']]\n",
    "y = aml['score']\n",
    "\n",
    "from sklearn.model_selection import train_test_split\n",
    "\n",
    "X_train, X_test, y_train, y_test = train_test_split(X,y,test_size=0.2)\n",
    "print (X_train.shape, y_train.shape)\n",
    "print (X_test.shape, y_test.shape)"
   ]
  },
  {
   "cell_type": "code",
   "execution_count": 88,
   "metadata": {},
   "outputs": [],
   "source": [
    "from sklearn.preprocessing import StandardScaler\n",
    "\n",
    "sc = StandardScaler()  \n",
    "X_train = sc.fit_transform(X_train)  \n",
    "X_test = sc.transform(X_test)  "
   ]
  },
  {
   "cell_type": "code",
   "execution_count": 89,
   "metadata": {},
   "outputs": [],
   "source": [
    "from sklearn.ensemble import RandomForestRegressor\n",
    "\n",
    "regressor = RandomForestRegressor(n_estimators=20, random_state=0)  \n",
    "regressor.fit(X_train, y_train)  \n",
    "y_pred = regressor.predict(X_test)  "
   ]
  },
  {
   "cell_type": "code",
   "execution_count": 90,
   "metadata": {},
   "outputs": [
    {
     "name": "stdout",
     "output_type": "stream",
     "text": [
      "Mean Absolute Error: 0.49162193903048473\n",
      "Mean Squared Error: 0.4146704243711477\n",
      "Root Mean Squared Error: 0.6439490852320141\n"
     ]
    }
   ],
   "source": [
    "from sklearn import metrics\n",
    "\n",
    "print('Mean Absolute Error:', metrics.mean_absolute_error(y_test, y_pred))  \n",
    "print('Mean Squared Error:', metrics.mean_squared_error(y_test, y_pred))  \n",
    "print('Root Mean Squared Error:', np.sqrt(metrics.mean_squared_error(y_test, y_pred)))"
   ]
  },
  {
   "cell_type": "markdown",
   "metadata": {},
   "source": [
    "We can see that within the random forest model that the absolute error is kind of on the higher side which would mean that within the data if there are more estimators within the data the Root Mean Squared Error would go down allowing for a more accurate test. We can also see that looking at the data and how the random foest model was played out, it shows that the data has room for improvement but as can be more accurate as time goes on. This leads to the assumption that there could be a correlation between all of these variables: memebers, popularity, and favorites, and the score of the actual show itself."
   ]
  },
  {
   "cell_type": "markdown",
   "metadata": {},
   "source": [
    "# Conclusion"
   ]
  },
  {
   "cell_type": "markdown",
   "metadata": {},
   "source": [
    "    In conclusion this project would most likely be scrapped as the things that were being tested weren't the best variables to be tested. As it was going along I was lead into different problems that could have been solved by just the use of a different testing set. As for the porject as a whole, it went sort of well, I was expecting to have the score for each of the show be correlated completely with popularity and the other variables, but that was far from the truth. Yes, the variables had some sort of correlation with scores but it wasn't enough to really say there is a pure correlation for each of the variables. I would trash this project and start it with a different set of test variables to see if there is a correlation there as it was something that could help with the overall smoothness of testing. I don't really think that this sort of comparison would be suitable for a business setting as it only compares certain aspects of the data with one another without the consideration of outside forces such as, advertising, general awareness, and incentives behind watching the show. However, with that said it could be valuable to someone within a certain market as it is a perliminary data that could be used as a cog in a entire network of different smaller machine learning projects which could benefit a company. Which could also lead to a further development of the project in itself. Some of the lasting impression I had with the project was that it was interesting to learn that within itself there isn't much correlation with different variables, but it's more the outside forces that really govern the popularity and the score of the show. "
   ]
  }
 ],
 "metadata": {
  "kernelspec": {
   "display_name": "Python 3",
   "language": "python",
   "name": "python3"
  },
  "language_info": {
   "codemirror_mode": {
    "name": "ipython",
    "version": 3
   },
   "file_extension": ".py",
   "mimetype": "text/x-python",
   "name": "python",
   "nbconvert_exporter": "python",
   "pygments_lexer": "ipython3",
   "version": "3.6.5"
  }
 },
 "nbformat": 4,
 "nbformat_minor": 2
}
